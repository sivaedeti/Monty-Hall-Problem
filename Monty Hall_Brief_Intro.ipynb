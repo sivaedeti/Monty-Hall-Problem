{
 "cells": [
  {
   "cell_type": "markdown",
   "id": "4e9fdbf8",
   "metadata": {},
   "source": [
    "## MONTY HALL PROBLEM STATEMENT"
   ]
  },
  {
   "cell_type": "markdown",
   "id": "011c702f",
   "metadata": {},
   "source": [
    "### Introduction"
   ]
  },
  {
   "cell_type": "markdown",
   "id": "3bbdbe22",
   "metadata": {},
   "source": [
    "The Monty hall is an American Game Show and the host is Monty Hall.\n",
    "The Monty Hall problem is a counter-intuitive statistics puzzle:\n",
    "\n",
    "There are 3 doors, behind which are two goats and a car, the show and the shows host (Monty) knows where there is a goat and where there isn’t a goat and therefore knows which door the prize is behind. So, we are given three doors (Door A, Door B, and DoorC). You pick a door (call it door A).Monty Hall, the game show host, examines the other doors (B & C) and opens one with a goat. (If both doors have goats, he picks randomly.)\n",
    "The game goes like this after the host reveals one door the host asks:\"Do you stick with door A (original guess) or switch to the unopened door? Does it matter?\"\n",
    "\n",
    "the odds aren’t 50-50. If you switch doors you’ll win 2/3 of the time!\n",
    "\n",
    "<img src = \"download.jpeg\" width = \"50%\">\n",
    "\n",
    "Reference links:https://betterexplained.com/articles/understanding-the-monty-hall-problem/\n",
    "              \n",
    "\n"
   ]
  },
  {
   "cell_type": "markdown",
   "id": "13b857c8",
   "metadata": {},
   "source": [
    "## Simulation"
   ]
  },
  {
   "cell_type": "markdown",
   "id": "2f43b4aa",
   "metadata": {},
   "source": [
    "Simulation of the monty hall problem goes like this.\n",
    "Here we are testing this with the big numbers to see if choosing to always switch doors after one has been revealed by the host that does not contain the prize indeed gives us about a 2/3rd chance of winning.\n"
   ]
  }
 ],
 "metadata": {
  "kernelspec": {
   "display_name": "Python 3 (ipykernel)",
   "language": "python",
   "name": "python3"
  },
  "language_info": {
   "codemirror_mode": {
    "name": "ipython",
    "version": 3
   },
   "file_extension": ".py",
   "mimetype": "text/x-python",
   "name": "python",
   "nbconvert_exporter": "python",
   "pygments_lexer": "ipython3",
   "version": "3.9.7"
  }
 },
 "nbformat": 4,
 "nbformat_minor": 5
}
